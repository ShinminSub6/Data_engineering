{
 "cells": [
  {
   "cell_type": "code",
   "execution_count": 13,
   "id": "abb831c6-98a1-43d4-acbe-78af346618fd",
   "metadata": {},
   "outputs": [],
   "source": [
    "lovely_loveseat_description = \"Lovely Loveseat. Tuffed polyster blend on wood. 32 inches high x 40 inches wide x 30 inches deep Red or white\""
   ]
  },
  {
   "cell_type": "code",
   "execution_count": 3,
   "id": "5e300fed-9c14-42f0-86a3-9e002c100a8e",
   "metadata": {},
   "outputs": [],
   "source": [
    "lovely_loveseat_price= 254.00"
   ]
  },
  {
   "cell_type": "code",
   "execution_count": 4,
   "id": "2c3dfa08-a6ac-47c1-8aa3-67570363817b",
   "metadata": {},
   "outputs": [],
   "source": [
    "stylish_settee_description = \"Stylish Settee. Faux leather on birch. 29.50 inches high x 54.75 inches wide x 28 inches deep. Black.\""
   ]
  },
  {
   "cell_type": "code",
   "execution_count": 5,
   "id": "c600e5be-f328-4a9e-8dd4-98a12f95b73a",
   "metadata": {},
   "outputs": [],
   "source": [
    "stylish_settee_price = 180.50"
   ]
  },
  {
   "cell_type": "code",
   "execution_count": 6,
   "id": "b5b4b0e6-2c44-4c74-a11d-d2e65be8937f",
   "metadata": {},
   "outputs": [],
   "source": [
    "luxurious_lamp_description = \"Luxurious Lamp. Glass and iron. 36 inches tall. Brown with cream shade.\""
   ]
  },
  {
   "cell_type": "code",
   "execution_count": 16,
   "id": "9cb97ffd-8082-44b6-8dba-02e3323ae960",
   "metadata": {},
   "outputs": [],
   "source": [
    "luxurious_lamp_price = 52.15"
   ]
  },
  {
   "cell_type": "code",
   "execution_count": 8,
   "id": "bf0c8218-144c-46b6-bbaa-578796f51bd2",
   "metadata": {},
   "outputs": [],
   "source": [
    "sales_tax = 0.088"
   ]
  },
  {
   "cell_type": "code",
   "execution_count": 9,
   "id": "596b15bb-1c20-4209-a05c-99102e7ddaac",
   "metadata": {},
   "outputs": [],
   "source": [
    "customer_one_total = 0"
   ]
  },
  {
   "cell_type": "code",
   "execution_count": 10,
   "id": "733b0e5a-5933-4935-b05b-6281efbeb218",
   "metadata": {},
   "outputs": [],
   "source": [
    "customer_one_itemization = \"\""
   ]
  },
  {
   "cell_type": "code",
   "execution_count": 11,
   "id": "cd3fbcd6-2616-48ea-aaa1-62693ef05b3a",
   "metadata": {},
   "outputs": [],
   "source": [
    "customer_one_total += lovely_loveseat_price"
   ]
  },
  {
   "cell_type": "code",
   "execution_count": 14,
   "id": "a61cdb56-bd61-4dfc-8d01-37216846b2cb",
   "metadata": {},
   "outputs": [],
   "source": [
    "customer_one_itemization += lovely_loveseat_description"
   ]
  },
  {
   "cell_type": "code",
   "execution_count": 17,
   "id": "a67490ed-fd50-4f4a-86e4-963d2bc063b0",
   "metadata": {},
   "outputs": [],
   "source": [
    "customer_one_total += luxurious_lamp_price"
   ]
  },
  {
   "cell_type": "code",
   "execution_count": 18,
   "id": "fdb0db2f-f561-4481-8656-1bba8ad5e28c",
   "metadata": {},
   "outputs": [],
   "source": [
    "customer_one_itemization += luxurious_lamp_description"
   ]
  },
  {
   "cell_type": "code",
   "execution_count": 19,
   "id": "bcec4beb-9cff-4aca-a9e3-5f82f0202e01",
   "metadata": {},
   "outputs": [],
   "source": [
    "customer_one_tax = customer_one_total * sales_tax"
   ]
  },
  {
   "cell_type": "code",
   "execution_count": 20,
   "id": "dfd5ab68-fb43-4b7f-aa99-ff43b8e47884",
   "metadata": {},
   "outputs": [],
   "source": [
    "customer_one_total += customer_one_tax"
   ]
  },
  {
   "cell_type": "code",
   "execution_count": 22,
   "id": "3203332b-5380-43fa-b6f6-f1b81c4aceb0",
   "metadata": {},
   "outputs": [
    {
     "name": "stdout",
     "output_type": "stream",
     "text": [
      "Customer One items: \n",
      "Lovely Loveseat. Tuffed polyster blend on wood. 32 inches high x 40 inches wide x 30 inches deep Red or whiteLuxurious Lamp. Glass and iron. 36 inches tall. Brown with cream shade.\n",
      "Customer One Total: \n",
      "333.09119999999996\n"
     ]
    }
   ],
   "source": [
    "print(\"Customer One items: \")\n",
    "print(customer_one_itemization)\n",
    "print(\"Customer One Total: \")\n",
    "print(customer_one_total)"
   ]
  },
  {
   "cell_type": "code",
   "execution_count": null,
   "id": "bd82cc9b-dd93-427b-89a5-37b8266b8f06",
   "metadata": {},
   "outputs": [],
   "source": []
  }
 ],
 "metadata": {
  "kernelspec": {
   "display_name": "Python 3 (ipykernel)",
   "language": "python",
   "name": "python3"
  },
  "language_info": {
   "codemirror_mode": {
    "name": "ipython",
    "version": 3
   },
   "file_extension": ".py",
   "mimetype": "text/x-python",
   "name": "python",
   "nbconvert_exporter": "python",
   "pygments_lexer": "ipython3",
   "version": "3.9.12"
  }
 },
 "nbformat": 4,
 "nbformat_minor": 5
}
